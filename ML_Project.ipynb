{
  "cells": [
    {
      "cell_type": "markdown",
      "metadata": {
        "id": "view-in-github",
        "colab_type": "text"
      },
      "source": [
        "<a href=\"https://colab.research.google.com/github/Salma11557/ML-project/blob/main/ML_Project.ipynb\" target=\"_parent\"><img src=\"https://colab.research.google.com/assets/colab-badge.svg\" alt=\"Open In Colab\"/></a>"
      ]
    },
    {
      "cell_type": "code",
      "execution_count": null,
      "metadata": {
        "colab": {
          "base_uri": "https://localhost:8080/"
        },
        "id": "ealX_eDb11Xs",
        "outputId": "904fb9ea-6b82-4d7c-91f3-491b635d65f4"
      },
      "outputs": [
        {
          "output_type": "stream",
          "name": "stdout",
          "text": [
            "Mounted at /content/drive\n"
          ]
        }
      ],
      "source": [
        "from google.colab import drive\n",
        "drive.mount('/content/drive')"
      ]
    },
    {
      "cell_type": "markdown",
      "metadata": {
        "id": "3C41BPx_8xlK"
      },
      "source": [
        "# New Section"
      ]
    },
    {
      "cell_type": "code",
      "execution_count": null,
      "metadata": {
        "colab": {
          "base_uri": "https://localhost:8080/"
        },
        "id": "4NgcLYbv2dRC",
        "outputId": "8bbde4f3-7066-4bfb-8f38-ea8ee367c814"
      },
      "outputs": [
        {
          "output_type": "stream",
          "name": "stdout",
          "text": [
            "Collecting pmdarima\n",
            "  Downloading pmdarima-1.8.5-cp37-cp37m-manylinux_2_17_x86_64.manylinux2014_x86_64.manylinux_2_24_x86_64.whl (1.4 MB)\n",
            "\u001b[?25l\r\u001b[K     |▎                               | 10 kB 18.8 MB/s eta 0:00:01\r\u001b[K     |▌                               | 20 kB 9.6 MB/s eta 0:00:01\r\u001b[K     |▊                               | 30 kB 7.8 MB/s eta 0:00:01\r\u001b[K     |█                               | 40 kB 3.6 MB/s eta 0:00:01\r\u001b[K     |█▏                              | 51 kB 3.6 MB/s eta 0:00:01\r\u001b[K     |█▍                              | 61 kB 4.3 MB/s eta 0:00:01\r\u001b[K     |█▋                              | 71 kB 4.6 MB/s eta 0:00:01\r\u001b[K     |██                              | 81 kB 4.8 MB/s eta 0:00:01\r\u001b[K     |██▏                             | 92 kB 5.3 MB/s eta 0:00:01\r\u001b[K     |██▍                             | 102 kB 4.3 MB/s eta 0:00:01\r\u001b[K     |██▋                             | 112 kB 4.3 MB/s eta 0:00:01\r\u001b[K     |██▉                             | 122 kB 4.3 MB/s eta 0:00:01\r\u001b[K     |███                             | 133 kB 4.3 MB/s eta 0:00:01\r\u001b[K     |███▎                            | 143 kB 4.3 MB/s eta 0:00:01\r\u001b[K     |███▌                            | 153 kB 4.3 MB/s eta 0:00:01\r\u001b[K     |███▉                            | 163 kB 4.3 MB/s eta 0:00:01\r\u001b[K     |████                            | 174 kB 4.3 MB/s eta 0:00:01\r\u001b[K     |████▎                           | 184 kB 4.3 MB/s eta 0:00:01\r\u001b[K     |████▌                           | 194 kB 4.3 MB/s eta 0:00:01\r\u001b[K     |████▊                           | 204 kB 4.3 MB/s eta 0:00:01\r\u001b[K     |█████                           | 215 kB 4.3 MB/s eta 0:00:01\r\u001b[K     |█████▏                          | 225 kB 4.3 MB/s eta 0:00:01\r\u001b[K     |█████▍                          | 235 kB 4.3 MB/s eta 0:00:01\r\u001b[K     |█████▊                          | 245 kB 4.3 MB/s eta 0:00:01\r\u001b[K     |██████                          | 256 kB 4.3 MB/s eta 0:00:01\r\u001b[K     |██████▏                         | 266 kB 4.3 MB/s eta 0:00:01\r\u001b[K     |██████▍                         | 276 kB 4.3 MB/s eta 0:00:01\r\u001b[K     |██████▋                         | 286 kB 4.3 MB/s eta 0:00:01\r\u001b[K     |██████▉                         | 296 kB 4.3 MB/s eta 0:00:01\r\u001b[K     |███████                         | 307 kB 4.3 MB/s eta 0:00:01\r\u001b[K     |███████▎                        | 317 kB 4.3 MB/s eta 0:00:01\r\u001b[K     |███████▋                        | 327 kB 4.3 MB/s eta 0:00:01\r\u001b[K     |███████▉                        | 337 kB 4.3 MB/s eta 0:00:01\r\u001b[K     |████████                        | 348 kB 4.3 MB/s eta 0:00:01\r\u001b[K     |████████▎                       | 358 kB 4.3 MB/s eta 0:00:01\r\u001b[K     |████████▌                       | 368 kB 4.3 MB/s eta 0:00:01\r\u001b[K     |████████▊                       | 378 kB 4.3 MB/s eta 0:00:01\r\u001b[K     |█████████                       | 389 kB 4.3 MB/s eta 0:00:01\r\u001b[K     |█████████▎                      | 399 kB 4.3 MB/s eta 0:00:01\r\u001b[K     |█████████▌                      | 409 kB 4.3 MB/s eta 0:00:01\r\u001b[K     |█████████▊                      | 419 kB 4.3 MB/s eta 0:00:01\r\u001b[K     |██████████                      | 430 kB 4.3 MB/s eta 0:00:01\r\u001b[K     |██████████▏                     | 440 kB 4.3 MB/s eta 0:00:01\r\u001b[K     |██████████▍                     | 450 kB 4.3 MB/s eta 0:00:01\r\u001b[K     |██████████▋                     | 460 kB 4.3 MB/s eta 0:00:01\r\u001b[K     |██████████▉                     | 471 kB 4.3 MB/s eta 0:00:01\r\u001b[K     |███████████▏                    | 481 kB 4.3 MB/s eta 0:00:01\r\u001b[K     |███████████▍                    | 491 kB 4.3 MB/s eta 0:00:01\r\u001b[K     |███████████▋                    | 501 kB 4.3 MB/s eta 0:00:01\r\u001b[K     |███████████▉                    | 512 kB 4.3 MB/s eta 0:00:01\r\u001b[K     |████████████                    | 522 kB 4.3 MB/s eta 0:00:01\r\u001b[K     |████████████▎                   | 532 kB 4.3 MB/s eta 0:00:01\r\u001b[K     |████████████▌                   | 542 kB 4.3 MB/s eta 0:00:01\r\u001b[K     |████████████▊                   | 552 kB 4.3 MB/s eta 0:00:01\r\u001b[K     |█████████████                   | 563 kB 4.3 MB/s eta 0:00:01\r\u001b[K     |█████████████▎                  | 573 kB 4.3 MB/s eta 0:00:01\r\u001b[K     |█████████████▌                  | 583 kB 4.3 MB/s eta 0:00:01\r\u001b[K     |█████████████▊                  | 593 kB 4.3 MB/s eta 0:00:01\r\u001b[K     |██████████████                  | 604 kB 4.3 MB/s eta 0:00:01\r\u001b[K     |██████████████▏                 | 614 kB 4.3 MB/s eta 0:00:01\r\u001b[K     |██████████████▍                 | 624 kB 4.3 MB/s eta 0:00:01\r\u001b[K     |██████████████▋                 | 634 kB 4.3 MB/s eta 0:00:01\r\u001b[K     |███████████████                 | 645 kB 4.3 MB/s eta 0:00:01\r\u001b[K     |███████████████▏                | 655 kB 4.3 MB/s eta 0:00:01\r\u001b[K     |███████████████▍                | 665 kB 4.3 MB/s eta 0:00:01\r\u001b[K     |███████████████▋                | 675 kB 4.3 MB/s eta 0:00:01\r\u001b[K     |███████████████▉                | 686 kB 4.3 MB/s eta 0:00:01\r\u001b[K     |████████████████                | 696 kB 4.3 MB/s eta 0:00:01\r\u001b[K     |████████████████▎               | 706 kB 4.3 MB/s eta 0:00:01\r\u001b[K     |████████████████▋               | 716 kB 4.3 MB/s eta 0:00:01\r\u001b[K     |████████████████▉               | 727 kB 4.3 MB/s eta 0:00:01\r\u001b[K     |█████████████████               | 737 kB 4.3 MB/s eta 0:00:01\r\u001b[K     |█████████████████▎              | 747 kB 4.3 MB/s eta 0:00:01\r\u001b[K     |█████████████████▌              | 757 kB 4.3 MB/s eta 0:00:01\r\u001b[K     |█████████████████▊              | 768 kB 4.3 MB/s eta 0:00:01\r\u001b[K     |██████████████████              | 778 kB 4.3 MB/s eta 0:00:01\r\u001b[K     |██████████████████▏             | 788 kB 4.3 MB/s eta 0:00:01\r\u001b[K     |██████████████████▌             | 798 kB 4.3 MB/s eta 0:00:01\r\u001b[K     |██████████████████▊             | 808 kB 4.3 MB/s eta 0:00:01\r\u001b[K     |███████████████████             | 819 kB 4.3 MB/s eta 0:00:01\r\u001b[K     |███████████████████▏            | 829 kB 4.3 MB/s eta 0:00:01\r\u001b[K     |███████████████████▍            | 839 kB 4.3 MB/s eta 0:00:01\r\u001b[K     |███████████████████▋            | 849 kB 4.3 MB/s eta 0:00:01\r\u001b[K     |███████████████████▉            | 860 kB 4.3 MB/s eta 0:00:01\r\u001b[K     |████████████████████            | 870 kB 4.3 MB/s eta 0:00:01\r\u001b[K     |████████████████████▍           | 880 kB 4.3 MB/s eta 0:00:01\r\u001b[K     |████████████████████▋           | 890 kB 4.3 MB/s eta 0:00:01\r\u001b[K     |████████████████████▉           | 901 kB 4.3 MB/s eta 0:00:01\r\u001b[K     |█████████████████████           | 911 kB 4.3 MB/s eta 0:00:01\r\u001b[K     |█████████████████████▎          | 921 kB 4.3 MB/s eta 0:00:01\r\u001b[K     |█████████████████████▌          | 931 kB 4.3 MB/s eta 0:00:01\r\u001b[K     |█████████████████████▊          | 942 kB 4.3 MB/s eta 0:00:01\r\u001b[K     |██████████████████████          | 952 kB 4.3 MB/s eta 0:00:01\r\u001b[K     |██████████████████████▎         | 962 kB 4.3 MB/s eta 0:00:01\r\u001b[K     |██████████████████████▌         | 972 kB 4.3 MB/s eta 0:00:01\r\u001b[K     |██████████████████████▊         | 983 kB 4.3 MB/s eta 0:00:01\r\u001b[K     |███████████████████████         | 993 kB 4.3 MB/s eta 0:00:01\r\u001b[K     |███████████████████████▏        | 1.0 MB 4.3 MB/s eta 0:00:01\r\u001b[K     |███████████████████████▍        | 1.0 MB 4.3 MB/s eta 0:00:01\r\u001b[K     |███████████████████████▋        | 1.0 MB 4.3 MB/s eta 0:00:01\r\u001b[K     |████████████████████████        | 1.0 MB 4.3 MB/s eta 0:00:01\r\u001b[K     |████████████████████████▏       | 1.0 MB 4.3 MB/s eta 0:00:01\r\u001b[K     |████████████████████████▍       | 1.1 MB 4.3 MB/s eta 0:00:01\r\u001b[K     |████████████████████████▋       | 1.1 MB 4.3 MB/s eta 0:00:01\r\u001b[K     |████████████████████████▉       | 1.1 MB 4.3 MB/s eta 0:00:01\r\u001b[K     |█████████████████████████       | 1.1 MB 4.3 MB/s eta 0:00:01\r\u001b[K     |█████████████████████████▎      | 1.1 MB 4.3 MB/s eta 0:00:01\r\u001b[K     |█████████████████████████▌      | 1.1 MB 4.3 MB/s eta 0:00:01\r\u001b[K     |█████████████████████████▉      | 1.1 MB 4.3 MB/s eta 0:00:01\r\u001b[K     |██████████████████████████      | 1.1 MB 4.3 MB/s eta 0:00:01\r\u001b[K     |██████████████████████████▎     | 1.1 MB 4.3 MB/s eta 0:00:01\r\u001b[K     |██████████████████████████▌     | 1.1 MB 4.3 MB/s eta 0:00:01\r\u001b[K     |██████████████████████████▊     | 1.2 MB 4.3 MB/s eta 0:00:01\r\u001b[K     |███████████████████████████     | 1.2 MB 4.3 MB/s eta 0:00:01\r\u001b[K     |███████████████████████████▏    | 1.2 MB 4.3 MB/s eta 0:00:01\r\u001b[K     |███████████████████████████▍    | 1.2 MB 4.3 MB/s eta 0:00:01\r\u001b[K     |███████████████████████████▊    | 1.2 MB 4.3 MB/s eta 0:00:01\r\u001b[K     |████████████████████████████    | 1.2 MB 4.3 MB/s eta 0:00:01\r\u001b[K     |████████████████████████████▏   | 1.2 MB 4.3 MB/s eta 0:00:01\r\u001b[K     |████████████████████████████▍   | 1.2 MB 4.3 MB/s eta 0:00:01\r\u001b[K     |████████████████████████████▋   | 1.2 MB 4.3 MB/s eta 0:00:01\r\u001b[K     |████████████████████████████▉   | 1.2 MB 4.3 MB/s eta 0:00:01\r\u001b[K     |█████████████████████████████   | 1.3 MB 4.3 MB/s eta 0:00:01\r\u001b[K     |█████████████████████████████▎  | 1.3 MB 4.3 MB/s eta 0:00:01\r\u001b[K     |█████████████████████████████▋  | 1.3 MB 4.3 MB/s eta 0:00:01\r\u001b[K     |█████████████████████████████▉  | 1.3 MB 4.3 MB/s eta 0:00:01\r\u001b[K     |██████████████████████████████  | 1.3 MB 4.3 MB/s eta 0:00:01\r\u001b[K     |██████████████████████████████▎ | 1.3 MB 4.3 MB/s eta 0:00:01\r\u001b[K     |██████████████████████████████▌ | 1.3 MB 4.3 MB/s eta 0:00:01\r\u001b[K     |██████████████████████████████▊ | 1.3 MB 4.3 MB/s eta 0:00:01\r\u001b[K     |███████████████████████████████ | 1.3 MB 4.3 MB/s eta 0:00:01\r\u001b[K     |███████████████████████████████▎| 1.4 MB 4.3 MB/s eta 0:00:01\r\u001b[K     |███████████████████████████████▌| 1.4 MB 4.3 MB/s eta 0:00:01\r\u001b[K     |███████████████████████████████▊| 1.4 MB 4.3 MB/s eta 0:00:01\r\u001b[K     |████████████████████████████████| 1.4 MB 4.3 MB/s eta 0:00:01\r\u001b[K     |████████████████████████████████| 1.4 MB 4.3 MB/s \n",
            "\u001b[?25hRequirement already satisfied: Cython!=0.29.18,>=0.29 in /usr/local/lib/python3.7/dist-packages (from pmdarima) (0.29.28)\n",
            "Requirement already satisfied: numpy>=1.19.3 in /usr/local/lib/python3.7/dist-packages (from pmdarima) (1.21.5)\n",
            "Requirement already satisfied: joblib>=0.11 in /usr/local/lib/python3.7/dist-packages (from pmdarima) (1.1.0)\n",
            "Requirement already satisfied: urllib3 in /usr/local/lib/python3.7/dist-packages (from pmdarima) (1.24.3)\n",
            "Requirement already satisfied: pandas>=0.19 in /usr/local/lib/python3.7/dist-packages (from pmdarima) (1.3.5)\n",
            "Requirement already satisfied: scipy>=1.3.2 in /usr/local/lib/python3.7/dist-packages (from pmdarima) (1.4.1)\n",
            "Requirement already satisfied: scikit-learn>=0.22 in /usr/local/lib/python3.7/dist-packages (from pmdarima) (1.0.2)\n",
            "Collecting statsmodels!=0.12.0,>=0.11\n",
            "  Downloading statsmodels-0.13.2-cp37-cp37m-manylinux_2_17_x86_64.manylinux2014_x86_64.whl (9.8 MB)\n",
            "\u001b[K     |████████████████████████████████| 9.8 MB 37.9 MB/s \n",
            "\u001b[?25hRequirement already satisfied: setuptools!=50.0.0,>=38.6.0 in /usr/local/lib/python3.7/dist-packages (from pmdarima) (57.4.0)\n",
            "Requirement already satisfied: python-dateutil>=2.7.3 in /usr/local/lib/python3.7/dist-packages (from pandas>=0.19->pmdarima) (2.8.2)\n",
            "Requirement already satisfied: pytz>=2017.3 in /usr/local/lib/python3.7/dist-packages (from pandas>=0.19->pmdarima) (2018.9)\n",
            "Requirement already satisfied: six>=1.5 in /usr/local/lib/python3.7/dist-packages (from python-dateutil>=2.7.3->pandas>=0.19->pmdarima) (1.15.0)\n",
            "Requirement already satisfied: threadpoolctl>=2.0.0 in /usr/local/lib/python3.7/dist-packages (from scikit-learn>=0.22->pmdarima) (3.1.0)\n",
            "Requirement already satisfied: packaging>=21.3 in /usr/local/lib/python3.7/dist-packages (from statsmodels!=0.12.0,>=0.11->pmdarima) (21.3)\n",
            "Requirement already satisfied: patsy>=0.5.2 in /usr/local/lib/python3.7/dist-packages (from statsmodels!=0.12.0,>=0.11->pmdarima) (0.5.2)\n",
            "Requirement already satisfied: pyparsing!=3.0.5,>=2.0.2 in /usr/local/lib/python3.7/dist-packages (from packaging>=21.3->statsmodels!=0.12.0,>=0.11->pmdarima) (3.0.7)\n",
            "Installing collected packages: statsmodels, pmdarima\n",
            "  Attempting uninstall: statsmodels\n",
            "    Found existing installation: statsmodels 0.10.2\n",
            "    Uninstalling statsmodels-0.10.2:\n",
            "      Successfully uninstalled statsmodels-0.10.2\n",
            "Successfully installed pmdarima-1.8.5 statsmodels-0.13.2\n"
          ]
        }
      ],
      "source": [
        "pip install pmdarima\n"
      ]
    },
    {
      "cell_type": "code",
      "execution_count": null,
      "metadata": {
        "id": "jt2nCavu2Olp"
      },
      "outputs": [],
      "source": [
        "\n",
        "import pandas as pd\n",
        "import numpy as np\n",
        "import matplotlib.pyplot as plt\n",
        "from datetime import datetime\n",
        "from google.colab import files\n",
        "from statsmodels.tsa.arima.model import ARIMA\n"
      ]
    },
    {
      "cell_type": "code",
      "execution_count": null,
      "metadata": {
        "colab": {
          "base_uri": "https://localhost:8080/"
        },
        "id": "xM08mzaRTMsk",
        "outputId": "0cf67738-b1c6-44f6-e301-1fdc25f415ee"
      },
      "outputs": [
        {
          "output_type": "stream",
          "name": "stdout",
          "text": [
            "                  Average Speed\n",
            "Time_Stamp                     \n",
            "07-04-2021 08:00      80.125000\n",
            "30-03-2021 22:30      88.000000\n",
            "31-03-2021 09:00      84.764706\n",
            "02-04-2021 13:00      77.062500\n",
            "18-03-2021 07:30      27.000000\n",
            "12-04-2021 04:00      81.333333\n",
            "24-03-2021 12:30      11.000000\n",
            "25-03-2021 13:00      37.000000\n",
            "17-03-2021 23:30      91.000000\n",
            "22-03-2021 07:30      15.000000\n",
            "16-03-2021 13:00       0.000000\n",
            "25-03-2021 11:30      23.000000\n",
            "25-03-2021 11:30       5.166667\n",
            "17-03-2021 14:30      17.500000\n",
            "23-03-2021 06:00      69.500000\n",
            "24-03-2021 06:00       0.000000\n",
            "14-04-2021 12:00      27.000000\n",
            "07-04-2021 13:30      82.315789\n",
            "24-03-2021 03:00      90.714286\n",
            "12-04-2021 09:00      80.307692\n"
          ]
        }
      ],
      "source": [
        "#def parser(x):\n",
        " #   return datetime.strptime(x, '%m/%d/%y %H:%M')\n",
        "\n",
        "df = pd.read_csv('/content/drive/MyDrive/Anderlecht_30_2021.csv')\n",
        "\n",
        "df=df.set_index('Time_Stamp') \n",
        "df=df.drop(['Street Segment Index','Traffic Flow'],axis=1) \n",
        "df = df.loc[:, ~df.columns.str.contains('^Unnamed')]\n",
        "\n",
        "\n",
        "\n",
        "print(df.head(20))\n"
      ]
    },
    {
      "cell_type": "code",
      "execution_count": null,
      "metadata": {
        "colab": {
          "base_uri": "https://localhost:8080/"
        },
        "id": "GZLJJTFdcThz",
        "outputId": "3add8fb9-1e76-465a-9506-6c96779d756e"
      },
      "outputs": [
        {
          "output_type": "stream",
          "name": "stdout",
          "text": [
            "Index(['07-04-2021 08:00', '30-03-2021 22:30', '31-03-2021 09:00',\n",
            "       '02-04-2021 13:00', '18-03-2021 07:30', '12-04-2021 04:00',\n",
            "       '24-03-2021 12:30', '25-03-2021 13:00', '17-03-2021 23:30',\n",
            "       '22-03-2021 07:30',\n",
            "       ...\n",
            "       '30-03-2021 19:30', '12-04-2021 02:00', '01-04-2021 16:30',\n",
            "       '15-03-2021 13:00', '30-03-2021 08:30', '25-03-2021 09:30',\n",
            "       '14-04-2021 09:30', '01-04-2021 03:30', '17-03-2021 10:00',\n",
            "       '25-03-2021 09:00'],\n",
            "      dtype='object', name='Time_Stamp', length=150823)\n"
          ]
        }
      ],
      "source": [
        "print(df.index)"
      ]
    },
    {
      "cell_type": "code",
      "execution_count": null,
      "metadata": {
        "colab": {
          "base_uri": "https://localhost:8080/"
        },
        "id": "IexifiBmTVKq",
        "outputId": "85a923d2-26c0-4fff-91c7-84588c857338"
      },
      "outputs": [
        {
          "output_type": "execute_result",
          "data": {
            "text/plain": [
              "Time_Stamp\n",
              "07-04-2021 08:00    80.125000\n",
              "30-03-2021 22:30    88.000000\n",
              "31-03-2021 09:00    84.764706\n",
              "02-04-2021 13:00    77.062500\n",
              "18-03-2021 07:30    27.000000\n",
              "                      ...    \n",
              "25-03-2021 09:30    31.000000\n",
              "14-04-2021 09:30     0.000000\n",
              "01-04-2021 03:30    50.000000\n",
              "17-03-2021 10:00    17.000000\n",
              "25-03-2021 09:00     1.000000\n",
              "Name: Average Speed, Length: 150823, dtype: float64"
            ]
          },
          "metadata": {},
          "execution_count": 6
        }
      ],
      "source": [
        "df['Average Speed']"
      ]
    },
    {
      "cell_type": "code",
      "execution_count": null,
      "metadata": {
        "colab": {
          "base_uri": "https://localhost:8080/",
          "height": 623
        },
        "id": "5N3K_SVc8DCf",
        "outputId": "14d5948b-207f-4df1-ff63-a8ff3abdac4e"
      },
      "outputs": [
        {
          "output_type": "execute_result",
          "data": {
            "text/plain": [
              "<matplotlib.axes._subplots.AxesSubplot at 0x7f53a00bf2d0>"
            ]
          },
          "metadata": {},
          "execution_count": 7
        },
        {
          "output_type": "display_data",
          "data": {
            "text/plain": [
              "<Figure size 1440x720 with 1 Axes>"
            ],
            "image/png": "[encoded data removed]"
          },
          "metadata": {
            "needs_background": "light"
          }
        }
      ],
      "source": [
        "\n",
        "plt.figure(figsize=(20,10))\n",
        "df['Average Speed'].plot()\n"
      ]
    },
    {
      "cell_type": "markdown",
      "metadata": {
        "id": "dnGBU8n-8mPO"
      },
      "source": [
        "#As there are no null values,preprocessing is not required"
      ]
    },
    {
      "cell_type": "code",
      "execution_count": null,
      "metadata": {
        "colab": {
          "base_uri": "https://localhost:8080/"
        },
        "id": "jSUIDGOT878i",
        "outputId": "85083e7e-8dea-4d2c-e55b-2b3a79244936"
      },
      "outputs": [
        {
          "output_type": "stream",
          "name": "stdout",
          "text": [
            "Average Speed    0\n",
            "dtype: int64\n"
          ]
        }
      ],
      "source": [
        "print(df.isnull().sum())\n"
      ]
    },
    {
      "cell_type": "code",
      "execution_count": null,
      "metadata": {
        "colab": {
          "base_uri": "https://localhost:8080/"
        },
        "id": "RfMTR3gkhDto",
        "outputId": "52541fe5-1a23-4dbb-e8a7-5e8457495864"
      },
      "outputs": [
        {
          "output_type": "execute_result",
          "data": {
            "text/plain": [
              "(150823, 1)"
            ]
          },
          "metadata": {},
          "execution_count": 9
        }
      ],
      "source": [
        "df.shape"
      ]
    },
    {
      "cell_type": "markdown",
      "source": [
        "#Check Stationarity\n"
      ],
      "metadata": {
        "id": "nY9S98xdzNWE"
      }
    },
    {
      "cell_type": "code",
      "execution_count": null,
      "metadata": {
        "id": "xf94nPdFTE0d"
      },
      "outputs": [],
      "source": [
        "from statsmodels.tsa.stattools import adfuller\n",
        "from pandas.tseries.offsets import *\n"
      ]
    },
    {
      "cell_type": "code",
      "execution_count": null,
      "metadata": {
        "id": "sJkPT29TSQjg"
      },
      "outputs": [],
      "source": [
        "def ad_test(dataset):\n",
        "  dftest=adfuller(dataset,autolag='AIC')\n",
        "  print(\"1.ADF:\",dftest[0])\n",
        "  print(\"2.P-Value:\",dftest[1])\n",
        "  print(\"3.Number of lags:\",dftest[2])\n",
        "  print(\"4.Number of Observations used for ADF regression and Critical values calcutions:\",dftest[3])\n",
        "  print(\"5.Critical values:\")\n",
        "  for key,val in dftest[4].items():\n",
        "    print(\"\\t\",key,\":\",val)"
      ]
    },
    {
      "cell_type": "code",
      "execution_count": null,
      "metadata": {
        "colab": {
          "base_uri": "https://localhost:8080/"
        },
        "id": "hwkxBCNkWh0r",
        "outputId": "06d286d5-3d94-4141-844e-abf110fa926a"
      },
      "outputs": [
        {
          "output_type": "stream",
          "name": "stdout",
          "text": [
            "1.ADF: -35.02744448672836\n",
            "2.P-Value: 0.0\n",
            "3.Number of lags: 66\n",
            "4.Number of Observations used for ADF regression and Critical values calcutions: 150756\n",
            "5.Critical values:\n",
            "\t 1% : -3.430393377453295\n",
            "\t 5% : -2.861559172225894\n",
            "\t 10% : -2.566780204692568\n"
          ]
        }
      ],
      "source": [
        "ad_test(df['Average Speed'])"
      ]
    },
    {
      "cell_type": "markdown",
      "source": [
        "#Optimized Arima Model"
      ],
      "metadata": {
        "id": "IcrU_PddzmWz"
      }
    },
    {
      "cell_type": "code",
      "execution_count": null,
      "metadata": {
        "id": "HkR4BaQQXR6Q"
      },
      "outputs": [],
      "source": [
        "from pmdarima import auto_arima\n",
        "import warnings\n",
        "warnings.filterwarnings(\"ignore\")"
      ]
    },
    {
      "cell_type": "code",
      "execution_count": null,
      "metadata": {
        "colab": {
          "base_uri": "https://localhost:8080/"
        },
        "id": "w6YNTI0lXpll",
        "outputId": "c72928ac-c946-4039-f9c6-e2dd95a1a6f8"
      },
      "outputs": [
        {
          "output_type": "stream",
          "name": "stdout",
          "text": [
            "Performing stepwise search to minimize aic\n",
            " ARIMA(2,0,2)(0,0,0)[0] intercept   : AIC=inf, Time=175.81 sec\n",
            " ARIMA(0,0,0)(0,0,0)[0] intercept   : AIC=1416932.802, Time=2.88 sec\n",
            " ARIMA(1,0,0)(0,0,0)[0] intercept   : AIC=1416593.832, Time=6.13 sec\n",
            " ARIMA(0,0,1)(0,0,0)[0] intercept   : AIC=1416623.135, Time=18.72 sec\n",
            " ARIMA(0,0,0)(0,0,0)[0]             : AIC=1557639.126, Time=1.40 sec\n",
            " ARIMA(2,0,0)(0,0,0)[0] intercept   : AIC=1416252.179, Time=7.96 sec\n",
            " ARIMA(3,0,0)(0,0,0)[0] intercept   : AIC=1416005.165, Time=12.37 sec\n",
            " ARIMA(4,0,0)(0,0,0)[0] intercept   : AIC=1415798.794, Time=14.73 sec\n",
            " ARIMA(5,0,0)(0,0,0)[0] intercept   : AIC=1415590.280, Time=19.50 sec\n",
            " ARIMA(5,0,1)(0,0,0)[0] intercept   : AIC=1415590.845, Time=60.33 sec\n",
            " ARIMA(4,0,1)(0,0,0)[0] intercept   : AIC=1415799.364, Time=35.93 sec\n",
            " ARIMA(5,0,0)(0,0,0)[0]             : AIC=1434718.724, Time=7.78 sec\n",
            "\n",
            "Best model:  ARIMA(5,0,0)(0,0,0)[0] intercept\n",
            "Total fit time: 363.578 seconds\n"
          ]
        }
      ],
      "source": [
        "stepwise_fit=auto_arima(df['Average Speed'],trace=True,suppress_warnings=True)"
      ]
    },
    {
      "cell_type": "markdown",
      "source": [
        "#Dividing Data into train and test sets"
      ],
      "metadata": {
        "id": "0Ks8NWhQzr3Q"
      }
    },
    {
      "cell_type": "code",
      "execution_count": null,
      "metadata": {
        "colab": {
          "base_uri": "https://localhost:8080/"
        },
        "id": "rETvREEZr8bp",
        "outputId": "9e6bee81-fa18-407b-bef1-49bb5276b9a5"
      },
      "outputs": [
        {
          "output_type": "stream",
          "name": "stdout",
          "text": [
            "(75823, 1) (75000, 1)\n"
          ]
        }
      ],
      "source": [
        "train=df.iloc[:-75000]\n",
        "test=df.iloc[-75000:]\n",
        "print(train.shape,test.shape)"
      ]
    },
    {
      "cell_type": "code",
      "execution_count": null,
      "metadata": {
        "colab": {
          "base_uri": "https://localhost:8080/"
        },
        "id": "f9MGCVvpYM2r",
        "outputId": "d3a4f823-7eb5-41d7-a12b-fe8a2a89dafd"
      },
      "outputs": [
        {
          "output_type": "stream",
          "name": "stdout",
          "text": [
            "                               SARIMAX Results                                \n",
            "==============================================================================\n",
            "Dep. Variable:          Average Speed   No. Observations:               150823\n",
            "Model:                 ARIMA(5, 0, 0)   Log Likelihood             -707788.140\n",
            "Date:                Tue, 05 Apr 2022   AIC                        1415590.279\n",
            "Time:                        21:40:48   BIC                        1415659.746\n",
            "Sample:                             0   HQIC                       1415610.979\n",
            "                             - 150823                                         \n",
            "Covariance Type:                  opg                                         \n",
            "==============================================================================\n",
            "                 coef    std err          z      P>|z|      [0.025      0.975]\n",
            "------------------------------------------------------------------------------\n",
            "const         32.9474      0.103    318.569      0.000      32.745      33.150\n",
            "ar.L1          0.0404      0.003     15.950      0.000       0.035       0.045\n",
            "ar.L2          0.0427      0.003     16.922      0.000       0.038       0.048\n",
            "ar.L3          0.0374      0.003     14.729      0.000       0.032       0.042\n",
            "ar.L4          0.0356      0.003     14.064      0.000       0.031       0.041\n",
            "ar.L5          0.0374      0.003     14.723      0.000       0.032       0.042\n",
            "sigma2       697.6739      3.383    206.205      0.000     691.043     704.305\n",
            "===================================================================================\n",
            "Ljung-Box (L1) (Q):                   0.23   Jarque-Bera (JB):             14455.79\n",
            "Prob(Q):                              0.63   Prob(JB):                         0.00\n",
            "Heteroskedasticity (H):               0.99   Skew:                             0.74\n",
            "Prob(H) (two-sided):                  0.53   Kurtosis:                         2.69\n",
            "===================================================================================\n",
            "\n",
            "Warnings:\n",
            "[1] Covariance matrix calculated using the outer product of gradients (complex-step).\n"
          ]
        }
      ],
      "source": [
        "# Fitting the ARIMA model\n",
        "model = ARIMA(df['Average Speed'], order=(5,0,0))\n",
        "model_fit = model.fit()\n",
        "\n",
        "print(model_fit.summary())"
      ]
    },
    {
      "cell_type": "code",
      "execution_count": null,
      "metadata": {
        "colab": {
          "base_uri": "https://localhost:8080/"
        },
        "id": "fKV4Btz8s1x4",
        "outputId": "93a5d379-b71e-47eb-c522-eb608685c52f"
      },
      "outputs": [
        {
          "output_type": "stream",
          "name": "stdout",
          "text": [
            "Time_Stamp\n",
            "22-03-2021 04:00    34.775189\n",
            "14-04-2021 16:30    36.419334\n",
            "12-04-2021 14:00    35.673179\n",
            "31-03-2021 06:00    35.054978\n",
            "15-03-2021 05:30    37.147014\n",
            "                      ...    \n",
            "25-03-2021 09:30    37.872240\n",
            "14-04-2021 09:30    35.911062\n",
            "01-04-2021 03:30    34.196069\n",
            "17-03-2021 10:00    33.864057\n",
            "25-03-2021 09:00    33.637920\n",
            "Name: predicted_mean, Length: 500, dtype: float64\n"
          ]
        }
      ],
      "source": [
        "#Predictions of Test set\n",
        "start=len(train)\n",
        "end=len(train)+len(test)-1\n",
        "pred=model_fit.predict(start=start,end=end,typ='levels')\n",
        "print(pred)\n"
      ]
    },
    {
      "cell_type": "code",
      "source": [
        "test"
      ],
      "metadata": {
        "colab": {
          "base_uri": "https://localhost:8080/",
          "height": 455
        },
        "id": "8Qo8Z8S2kQ_I",
        "outputId": "9b5b35b1-9378-4786-c163-e8fbfd127187"
      },
      "execution_count": null,
      "outputs": [
        {
          "output_type": "execute_result",
          "data": {
            "text/plain": [
              "                  Average Speed\n",
              "Time_Stamp                     \n",
              "22-03-2021 04:00           54.0\n",
              "14-04-2021 16:30           64.0\n",
              "12-04-2021 14:00           17.0\n",
              "31-03-2021 06:00           87.0\n",
              "15-03-2021 05:30            7.0\n",
              "...                         ...\n",
              "25-03-2021 09:30           31.0\n",
              "14-04-2021 09:30            0.0\n",
              "01-04-2021 03:30           50.0\n",
              "17-03-2021 10:00           17.0\n",
              "25-03-2021 09:00            1.0\n",
              "\n",
              "[500 rows x 1 columns]"
            ],
            "text/html": [
              "\n",
              "  <div id=\"df-804bf66a-45c7-4be9-8243-c225dfebec5a\">\n",
              "    <div class=\"colab-df-container\">\n",
              "      <div>\n",
              "<style scoped>\n",
              "    .dataframe tbody tr th:only-of-type {\n",
              "        vertical-align: middle;\n",
              "    }\n",
              "\n",
              "    .dataframe tbody tr th {\n",
              "        vertical-align: top;\n",
              "    }\n",
              "\n",
              "    .dataframe thead th {\n",
              "        text-align: right;\n",
              "    }\n",
              "</style>\n",
              "<table border=\"1\" class=\"dataframe\">\n",
              "  <thead>\n",
              "    <tr style=\"text-align: right;\">\n",
              "      <th></th>\n",
              "      <th>Average Speed</th>\n",
              "    </tr>\n",
              "    <tr>\n",
              "      <th>Time_Stamp</th>\n",
              "      <th></th>\n",
              "    </tr>\n",
              "  </thead>\n",
              "  <tbody>\n",
              "    <tr>\n",
              "      <th>22-03-2021 04:00</th>\n",
              "      <td>54.0</td>\n",
              "    </tr>\n",
              "    <tr>\n",
              "      <th>14-04-2021 16:30</th>\n",
              "      <td>64.0</td>\n",
              "    </tr>\n",
              "    <tr>\n",
              "      <th>12-04-2021 14:00</th>\n",
              "      <td>17.0</td>\n",
              "    </tr>\n",
              "    <tr>\n",
              "      <th>31-03-2021 06:00</th>\n",
              "      <td>87.0</td>\n",
              "    </tr>\n",
              "    <tr>\n",
              "      <th>15-03-2021 05:30</th>\n",
              "      <td>7.0</td>\n",
              "    </tr>\n",
              "    <tr>\n",
              "      <th>...</th>\n",
              "      <td>...</td>\n",
              "    </tr>\n",
              "    <tr>\n",
              "      <th>25-03-2021 09:30</th>\n",
              "      <td>31.0</td>\n",
              "    </tr>\n",
              "    <tr>\n",
              "      <th>14-04-2021 09:30</th>\n",
              "      <td>0.0</td>\n",
              "    </tr>\n",
              "    <tr>\n",
              "      <th>01-04-2021 03:30</th>\n",
              "      <td>50.0</td>\n",
              "    </tr>\n",
              "    <tr>\n",
              "      <th>17-03-2021 10:00</th>\n",
              "      <td>17.0</td>\n",
              "    </tr>\n",
              "    <tr>\n",
              "      <th>25-03-2021 09:00</th>\n",
              "      <td>1.0</td>\n",
              "    </tr>\n",
              "  </tbody>\n",
              "</table>\n",
              "<p>500 rows × 1 columns</p>\n",
              "</div>\n",
              "      <button class=\"colab-df-convert\" onclick=\"convertToInteractive('df-804bf66a-45c7-4be9-8243-c225dfebec5a')\"\n",
              "              title=\"Convert this dataframe to an interactive table.\"\n",
              "              style=\"display:none;\">\n",
              "        \n",
              "  <svg xmlns=\"http://www.w3.org/2000/svg\" height=\"24px\"viewBox=\"0 0 24 24\"\n",
              "       width=\"24px\">\n",
              "    <path d=\"M0 0h24v24H0V0z\" fill=\"none\"/>\n",
              "    <path d=\"M18.56 5.44l.94 2.06.94-2.06 2.06-.94-2.06-.94-.94-2.06-.94 2.06-2.06.94zm-11 1L8.5 8.5l.94-2.06 2.06-.94-2.06-.94L8.5 2.5l-.94 2.06-2.06.94zm10 10l.94 2.06.94-2.06 2.06-.94-2.06-.94-.94-2.06-.94 2.06-2.06.94z\"/><path d=\"M17.41 7.96l-1.37-1.37c-.4-.4-.92-.59-1.43-.59-.52 0-1.04.2-1.43.59L10.3 9.45l-7.72 7.72c-.78.78-.78 2.05 0 2.83L4 21.41c.39.39.9.59 1.41.59.51 0 1.02-.2 1.41-.59l7.78-7.78 2.81-2.81c.8-.78.8-2.07 0-2.86zM5.41 20L4 18.59l7.72-7.72 1.47 1.35L5.41 20z\"/>\n",
              "  </svg>\n",
              "      </button>\n",
              "      \n",
              "  <style>\n",
              "    .colab-df-container {\n",
              "      display:flex;\n",
              "      flex-wrap:wrap;\n",
              "      gap: 12px;\n",
              "    }\n",
              "\n",
              "    .colab-df-convert {\n",
              "      background-color: #E8F0FE;\n",
              "      border: none;\n",
              "      border-radius: 50%;\n",
              "      cursor: pointer;\n",
              "      display: none;\n",
              "      fill: #1967D2;\n",
              "      height: 32px;\n",
              "      padding: 0 0 0 0;\n",
              "      width: 32px;\n",
              "    }\n",
              "\n",
              "    .colab-df-convert:hover {\n",
              "      background-color: #E2EBFA;\n",
              "      box-shadow: 0px 1px 2px rgba(60, 64, 67, 0.3), 0px 1px 3px 1px rgba(60, 64, 67, 0.15);\n",
              "      fill: #174EA6;\n",
              "    }\n",
              "\n",
              "    [theme=dark] .colab-df-convert {\n",
              "      background-color: #3B4455;\n",
              "      fill: #D2E3FC;\n",
              "    }\n",
              "\n",
              "    [theme=dark] .colab-df-convert:hover {\n",
              "      background-color: #434B5C;\n",
              "      box-shadow: 0px 1px 3px 1px rgba(0, 0, 0, 0.15);\n",
              "      filter: drop-shadow(0px 1px 2px rgba(0, 0, 0, 0.3));\n",
              "      fill: #FFFFFF;\n",
              "    }\n",
              "  </style>\n",
              "\n",
              "      <script>\n",
              "        const buttonEl =\n",
              "          document.querySelector('#df-804bf66a-45c7-4be9-8243-c225dfebec5a button.colab-df-convert');\n",
              "        buttonEl.style.display =\n",
              "          google.colab.kernel.accessAllowed ? 'block' : 'none';\n",
              "\n",
              "        async function convertToInteractive(key) {\n",
              "          const element = document.querySelector('#df-804bf66a-45c7-4be9-8243-c225dfebec5a');\n",
              "          const dataTable =\n",
              "            await google.colab.kernel.invokeFunction('convertToInteractive',\n",
              "                                                     [key], {});\n",
              "          if (!dataTable) return;\n",
              "\n",
              "          const docLinkHtml = 'Like what you see? Visit the ' +\n",
              "            '<a target=\"_blank\" href=https://colab.research.google.com/notebooks/data_table.ipynb>data table notebook</a>'\n",
              "            + ' to learn more about interactive tables.';\n",
              "          element.innerHTML = '';\n",
              "          dataTable['output_type'] = 'display_data';\n",
              "          await google.colab.output.renderOutput(dataTable, element);\n",
              "          const docLink = document.createElement('div');\n",
              "          docLink.innerHTML = docLinkHtml;\n",
              "          element.appendChild(docLink);\n",
              "        }\n",
              "      </script>\n",
              "    </div>\n",
              "  </div>\n",
              "  "
            ]
          },
          "metadata": {},
          "execution_count": 62
        }
      ]
    },
    {
      "cell_type": "code",
      "execution_count": null,
      "metadata": {
        "colab": {
          "base_uri": "https://localhost:8080/"
        },
        "id": "KFP_OzlNzev8",
        "outputId": "cd7a0496-33b8-4612-d4f4-51697817059e"
      },
      "outputs": [
        {
          "output_type": "stream",
          "name": "stdout",
          "text": [
            "Average Speed    32.093725\n",
            "dtype: float64\n"
          ]
        }
      ],
      "source": [
        "testMean=test.mean()\n",
        "print(testMean)"
      ]
    },
    {
      "cell_type": "code",
      "source": [
        "predMean=pred.mean\n",
        "print(predMean)"
      ],
      "metadata": {
        "colab": {
          "base_uri": "https://localhost:8080/"
        },
        "id": "BMQiDnHLkwFs",
        "outputId": "1e32edc0-85f4-46d7-a8d7-03703dd38ab3"
      },
      "execution_count": null,
      "outputs": [
        {
          "output_type": "stream",
          "name": "stdout",
          "text": [
            "<bound method NDFrame._add_numeric_operations.<locals>.mean of Time_Stamp\n",
            "22-03-2021 04:00    34.775189\n",
            "14-04-2021 16:30    36.419334\n",
            "12-04-2021 14:00    35.673179\n",
            "31-03-2021 06:00    35.054978\n",
            "15-03-2021 05:30    37.147014\n",
            "                      ...    \n",
            "25-03-2021 09:30    37.872240\n",
            "14-04-2021 09:30    35.911062\n",
            "01-04-2021 03:30    34.196069\n",
            "17-03-2021 10:00    33.864057\n",
            "25-03-2021 09:00    33.637920\n",
            "Name: predicted_mean, Length: 500, dtype: float64>\n"
          ]
        }
      ]
    },
    {
      "cell_type": "code",
      "execution_count": null,
      "metadata": {
        "colab": {
          "base_uri": "https://localhost:8080/",
          "height": 298
        },
        "id": "uUKDeywav1T0",
        "outputId": "cf2107e0-e50d-48a6-8dbc-bd1ad61d8eb3"
      },
      "outputs": [
        {
          "output_type": "execute_result",
          "data": {
            "text/plain": [
              "<matplotlib.axes._subplots.AxesSubplot at 0x7f1a7d7ab350>"
            ]
          },
          "metadata": {},
          "execution_count": 65
        },
        {
          "output_type": "display_data",
          "data": {
            "text/plain": [
              "<Figure size 432x288 with 1 Axes>"
            ],
            "image/png": "[encoded data removed]"
          },
          "metadata": {
            "needs_background": "light"
          }
        }
      ],
      "source": [
        "pred.plot(legend=True,color='blue')\n",
        "test['Average Speed'].plot(legend=True,color='red')"
      ]
    },
    {
      "cell_type": "code",
      "execution_count": null,
      "metadata": {
        "colab": {
          "base_uri": "https://localhost:8080/"
        },
        "id": "ERsONzIG0y3H",
        "outputId": "9c27d8d9-6c4f-4270-a244-a15637c7ac54"
      },
      "outputs": [
        {
          "output_type": "execute_result",
          "data": {
            "text/plain": [
              "28.563126940636103"
            ]
          },
          "metadata": {},
          "execution_count": 26
        }
      ],
      "source": [
        "#Calculating Root mean squared error\n",
        "from sklearn.metrics import mean_squared_error\n",
        "from math import sqrt\n",
        "\n",
        "sqrt(mean_squared_error(test, pred))"
      ]
    },
    {
      "cell_type": "code",
      "execution_count": null,
      "metadata": {
        "colab": {
          "base_uri": "https://localhost:8080/"
        },
        "id": "Z-fCVwt50-ok",
        "outputId": "2eeac3fc-8038-4a15-866c-7f7f3ad54ee9"
      },
      "outputs": [
        {
          "output_type": "stream",
          "name": "stdout",
          "text": [
            "Average Speed    21.176576\n",
            "dtype: float64\n"
          ]
        }
      ],
      "source": [
        "Mean_absolute_deviation=df.mad()\n",
        "print(Mean_absolute_deviation)"
      ]
    },
    {
      "cell_type": "code",
      "source": [
        "# Fitting the ARIMA model\n",
        "#model2 = ARIMA(df['Average Speed'], order=(5,0,0))\n",
        "#model2_fit = model2.fit()\n",
        "\n",
        "#print(model2_fit.summary())"
      ],
      "metadata": {
        "colab": {
          "base_uri": "https://localhost:8080/"
        },
        "id": "_x9OQG1lwdwO",
        "outputId": "ddb8517e-4f06-43bf-f220-f8bfb5f49d49"
      },
      "execution_count": null,
      "outputs": [
        {
          "output_type": "stream",
          "name": "stdout",
          "text": [
            "                               SARIMAX Results                                \n",
            "==============================================================================\n",
            "Dep. Variable:          Average Speed   No. Observations:               150823\n",
            "Model:                 ARIMA(5, 0, 0)   Log Likelihood             -707788.140\n",
            "Date:                Tue, 05 Apr 2022   AIC                        1415590.279\n",
            "Time:                        22:06:57   BIC                        1415659.746\n",
            "Sample:                             0   HQIC                       1415610.979\n",
            "                             - 150823                                         \n",
            "Covariance Type:                  opg                                         \n",
            "==============================================================================\n",
            "                 coef    std err          z      P>|z|      [0.025      0.975]\n",
            "------------------------------------------------------------------------------\n",
            "const         32.9474      0.103    318.569      0.000      32.745      33.150\n",
            "ar.L1          0.0404      0.003     15.950      0.000       0.035       0.045\n",
            "ar.L2          0.0427      0.003     16.922      0.000       0.038       0.048\n",
            "ar.L3          0.0374      0.003     14.729      0.000       0.032       0.042\n",
            "ar.L4          0.0356      0.003     14.064      0.000       0.031       0.041\n",
            "ar.L5          0.0374      0.003     14.723      0.000       0.032       0.042\n",
            "sigma2       697.6739      3.383    206.205      0.000     691.043     704.305\n",
            "===================================================================================\n",
            "Ljung-Box (L1) (Q):                   0.23   Jarque-Bera (JB):             14455.79\n",
            "Prob(Q):                              0.63   Prob(JB):                         0.00\n",
            "Heteroskedasticity (H):               0.99   Skew:                             0.74\n",
            "Prob(H) (two-sided):                  0.53   Kurtosis:                         2.69\n",
            "===================================================================================\n",
            "\n",
            "Warnings:\n",
            "[1] Covariance matrix calculated using the outer product of gradients (complex-step).\n"
          ]
        }
      ]
    },
    {
      "cell_type": "code",
      "source": [
        "#Predictions of Test set\n",
        "#start=len(test)\n",
        "#end=len(test)+10\n",
        "#pred2=model_fit.predict(start=start,end=end,typ='levels')\n",
        "#print(pred2)"
      ],
      "metadata": {
        "colab": {
          "base_uri": "https://localhost:8080/"
        },
        "id": "qUSNNTcOwmiw",
        "outputId": "9bc76971-2ec9-41c7-9aa2-7fa307591ffd"
      },
      "execution_count": null,
      "outputs": [
        {
          "output_type": "stream",
          "name": "stdout",
          "text": [
            "Time_Stamp\n",
            "07-04-2021 07:30    38.343370\n",
            "16-03-2021 08:00    38.657407\n",
            "07-04-2021 15:00    36.439047\n",
            "27-03-2021 11:00    35.180466\n",
            "17-03-2021 06:30    37.219321\n",
            "29-03-2021 05:00    33.926487\n",
            "15-03-2021 09:00    33.748460\n",
            "29-03-2021 05:00    34.000135\n",
            "22-03-2021 01:00    35.626557\n",
            "26-03-2021 15:00    35.876926\n",
            "02-04-2021 07:30    36.125930\n",
            "Name: predicted_mean, dtype: float64\n"
          ]
        }
      ]
    },
    {
      "cell_type": "code",
      "source": [
        "#pred.plot(legend=True,color='blue')\n"
      ],
      "metadata": {
        "colab": {
          "base_uri": "https://localhost:8080/",
          "height": 298
        },
        "id": "DdL85TJvw6Bq",
        "outputId": "82acef04-b5ab-4e65-8eb2-54444c6216c8"
      },
      "execution_count": null,
      "outputs": [
        {
          "output_type": "execute_result",
          "data": {
            "text/plain": [
              "<matplotlib.axes._subplots.AxesSubplot at 0x7f1a7d1ec210>"
            ]
          },
          "metadata": {},
          "execution_count": 85
        },
        {
          "output_type": "display_data",
          "data": {
            "text/plain": [
              "<Figure size 432x288 with 1 Axes>"
            ],
            "image/png": "[encoded data removed]"
          },
          "metadata": {
            "needs_background": "light"
          }
        }
      ]
    }
  ],
  "metadata": {
    "colab": {
      "collapsed_sections": [],
      "name": "ML Project.ipynb",
      "provenance": [],
      "include_colab_link": true
    },
    "kernelspec": {
      "display_name": "Python 3",
      "name": "python3"
    },
    "language_info": {
      "name": "python"
    }
  },
  "nbformat": 4,
  "nbformat_minor": 0
}